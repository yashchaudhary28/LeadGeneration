{
 "cells": [
  {
   "cell_type": "markdown",
   "metadata": {},
   "source": [
    "### Import Libraries"
   ]
  },
  {
   "cell_type": "code",
   "execution_count": 5,
   "metadata": {
    "ExecuteTime": {
     "end_time": "2020-09-27T04:04:45.369615Z",
     "start_time": "2020-09-27T04:04:42.836330Z"
    }
   },
   "outputs": [],
   "source": [
    "import pandas as pd\n",
    "import numpy as np\n",
    "import matplotlib.pyplot as plt\n",
    "import seaborn as sns"
   ]
  },
  {
   "cell_type": "markdown",
   "metadata": {},
   "source": [
    "### Load The dataset"
   ]
  },
  {
   "cell_type": "code",
   "execution_count": 2,
   "metadata": {
    "ExecuteTime": {
     "end_time": "2020-09-27T04:02:40.681542Z",
     "start_time": "2020-09-27T04:02:40.575743Z"
    }
   },
   "outputs": [],
   "source": [
    "df = pd.read_csv('lead_gen.csv')"
   ]
  },
  {
   "cell_type": "code",
   "execution_count": 90,
   "metadata": {
    "ExecuteTime": {
     "end_time": "2020-09-27T07:28:15.812242Z",
     "start_time": "2020-09-27T07:28:15.800276Z"
    }
   },
   "outputs": [],
   "source": [
    "df_orginal = df.copy()"
   ]
  },
  {
   "cell_type": "code",
   "execution_count": 6,
   "metadata": {
    "ExecuteTime": {
     "end_time": "2020-09-27T04:04:51.215743Z",
     "start_time": "2020-09-27T04:04:51.203779Z"
    }
   },
   "outputs": [
    {
     "data": {
      "text/html": [
       "<div>\n",
       "<style scoped>\n",
       "    .dataframe tbody tr th:only-of-type {\n",
       "        vertical-align: middle;\n",
       "    }\n",
       "\n",
       "    .dataframe tbody tr th {\n",
       "        vertical-align: top;\n",
       "    }\n",
       "\n",
       "    .dataframe thead th {\n",
       "        text-align: right;\n",
       "    }\n",
       "</style>\n",
       "<table border=\"1\" class=\"dataframe\">\n",
       "  <thead>\n",
       "    <tr style=\"text-align: right;\">\n",
       "      <th></th>\n",
       "      <th>source</th>\n",
       "      <th>returning</th>\n",
       "      <th>mobile</th>\n",
       "      <th>country</th>\n",
       "      <th>pages_viewed</th>\n",
       "      <th>lead</th>\n",
       "    </tr>\n",
       "  </thead>\n",
       "  <tbody>\n",
       "    <tr>\n",
       "      <th>0</th>\n",
       "      <td>Taboola</td>\n",
       "      <td>1</td>\n",
       "      <td>1</td>\n",
       "      <td>US</td>\n",
       "      <td>2</td>\n",
       "      <td>0</td>\n",
       "    </tr>\n",
       "    <tr>\n",
       "      <th>1</th>\n",
       "      <td>Taboola</td>\n",
       "      <td>0</td>\n",
       "      <td>1</td>\n",
       "      <td>US</td>\n",
       "      <td>6</td>\n",
       "      <td>0</td>\n",
       "    </tr>\n",
       "    <tr>\n",
       "      <th>2</th>\n",
       "      <td>Facebook</td>\n",
       "      <td>0</td>\n",
       "      <td>0</td>\n",
       "      <td>US</td>\n",
       "      <td>2</td>\n",
       "      <td>0</td>\n",
       "    </tr>\n",
       "    <tr>\n",
       "      <th>3</th>\n",
       "      <td>Taboola</td>\n",
       "      <td>0</td>\n",
       "      <td>0</td>\n",
       "      <td>US</td>\n",
       "      <td>5</td>\n",
       "      <td>0</td>\n",
       "    </tr>\n",
       "    <tr>\n",
       "      <th>4</th>\n",
       "      <td>Taboola</td>\n",
       "      <td>0</td>\n",
       "      <td>0</td>\n",
       "      <td>Canada</td>\n",
       "      <td>5</td>\n",
       "      <td>0</td>\n",
       "    </tr>\n",
       "  </tbody>\n",
       "</table>\n",
       "</div>"
      ],
      "text/plain": [
       "     source  returning  mobile country  pages_viewed  lead\n",
       "0   Taboola          1       1      US             2     0\n",
       "1   Taboola          0       1      US             6     0\n",
       "2  Facebook          0       0      US             2     0\n",
       "3   Taboola          0       0      US             5     0\n",
       "4   Taboola          0       0  Canada             5     0"
      ]
     },
     "execution_count": 6,
     "metadata": {},
     "output_type": "execute_result"
    }
   ],
   "source": [
    "df.head()"
   ]
  },
  {
   "cell_type": "markdown",
   "metadata": {},
   "source": [
    "### Exploratory Data Analysis"
   ]
  },
  {
   "cell_type": "markdown",
   "metadata": {},
   "source": [
    "We will start by getting to know the dataset. We want to gain basic understanding, including:<br>\n",
    " - The number of observations and features\n",
    " - The datatypes\n",
    " - Any missing information"
   ]
  },
  {
   "cell_type": "code",
   "execution_count": 61,
   "metadata": {
    "ExecuteTime": {
     "end_time": "2020-09-27T05:48:52.618421Z",
     "start_time": "2020-09-27T05:48:52.613435Z"
    }
   },
   "outputs": [
    {
     "data": {
      "text/plain": [
       "(287742, 6)"
      ]
     },
     "execution_count": 61,
     "metadata": {},
     "output_type": "execute_result"
    }
   ],
   "source": [
    "# Number of observations\n",
    "df.shape"
   ]
  },
  {
   "cell_type": "code",
   "execution_count": 62,
   "metadata": {
    "ExecuteTime": {
     "end_time": "2020-09-27T05:48:57.852152Z",
     "start_time": "2020-09-27T05:48:57.845169Z"
    }
   },
   "outputs": [
    {
     "data": {
      "text/plain": [
       "source          object\n",
       "returning        int64\n",
       "mobile           int64\n",
       "country         object\n",
       "pages_viewed     int64\n",
       "lead             int64\n",
       "dtype: object"
      ]
     },
     "execution_count": 62,
     "metadata": {},
     "output_type": "execute_result"
    }
   ],
   "source": [
    "# Datatypes\n",
    "df.dtypes"
   ]
  },
  {
   "cell_type": "code",
   "execution_count": 63,
   "metadata": {
    "ExecuteTime": {
     "end_time": "2020-09-27T05:49:05.430952Z",
     "start_time": "2020-09-27T05:49:05.394048Z"
    }
   },
   "outputs": [
    {
     "data": {
      "text/plain": [
       "source          0\n",
       "returning       0\n",
       "mobile          0\n",
       "country         0\n",
       "pages_viewed    0\n",
       "lead            0\n",
       "dtype: int64"
      ]
     },
     "execution_count": 63,
     "metadata": {},
     "output_type": "execute_result"
    }
   ],
   "source": [
    "# Number of missing values\n",
    "df.isnull().sum()"
   ]
  },
  {
   "cell_type": "code",
   "execution_count": 65,
   "metadata": {
    "ExecuteTime": {
     "end_time": "2020-09-27T05:49:29.906221Z",
     "start_time": "2020-09-27T05:49:29.900237Z"
    }
   },
   "outputs": [
    {
     "data": {
      "text/plain": [
       "0.03213990310764504"
      ]
     },
     "execution_count": 65,
     "metadata": {},
     "output_type": "execute_result"
    }
   ],
   "source": [
    "# Overall conversion rate\n",
    "df.lead.mean()"
   ]
  },
  {
   "cell_type": "markdown",
   "metadata": {},
   "source": [
    "#### Univariate Analysis"
   ]
  },
  {
   "cell_type": "code",
   "execution_count": 58,
   "metadata": {
    "ExecuteTime": {
     "end_time": "2020-09-27T05:23:16.238711Z",
     "start_time": "2020-09-27T05:23:16.108059Z"
    }
   },
   "outputs": [
    {
     "data": {
      "text/plain": [
       "Text(0, 0.5, 'Frequency %')"
      ]
     },
     "execution_count": 58,
     "metadata": {},
     "output_type": "execute_result"
    },
    {
     "data": {
      "image/png": "[encoded data removed]",
      "text/plain": [
       "<Figure size 432x288 with 1 Axes>"
      ]
     },
     "metadata": {
      "needs_background": "light"
     },
     "output_type": "display_data"
    }
   ],
   "source": [
    "# target variable\n",
    "df['lead'].value_counts(normalize = True).plot.bar()\n",
    "plt.title(\"Bar Plot of Lead\")\n",
    "plt.xlabel(\"Lead\")\n",
    "plt.ylabel(\"Frequency %\")"
   ]
  },
  {
   "cell_type": "markdown",
   "metadata": {},
   "source": [
    "As we can see that data is imbalaced as there are about 95% of 0 values and 5 % of 1 values"
   ]
  },
  {
   "cell_type": "code",
   "execution_count": 72,
   "metadata": {
    "ExecuteTime": {
     "end_time": "2020-09-27T05:56:15.910591Z",
     "start_time": "2020-09-27T05:56:15.521630Z"
    }
   },
   "outputs": [
    {
     "data": {
      "image/png": "[encoded data removed]",
      "text/plain": [
       "<Figure size 432x288 with 1 Axes>"
      ]
     },
     "metadata": {
      "needs_background": "light"
     },
     "output_type": "display_data"
    },
    {
     "data": {
      "image/png": "[encoded data removed]",
      "text/plain": [
       "<Figure size 432x288 with 1 Axes>"
      ]
     },
     "metadata": {
      "needs_background": "light"
     },
     "output_type": "display_data"
    }
   ],
   "source": [
    "#Countplots for categorical variables\n",
    "sns.countplot(y = 'country', data=df)\n",
    "plt.show()\n",
    "sns.countplot(y = 'source', data=df)\n",
    "plt.show()"
   ]
  },
  {
   "cell_type": "code",
   "execution_count": 75,
   "metadata": {
    "ExecuteTime": {
     "end_time": "2020-09-27T05:56:38.593219Z",
     "start_time": "2020-09-27T05:56:38.331912Z"
    }
   },
   "outputs": [
    {
     "data": {
      "image/png": "[encoded data removed]",
      "text/plain": [
       "<Figure size 432x288 with 1 Axes>"
      ]
     },
     "metadata": {
      "needs_background": "light"
     },
     "output_type": "display_data"
    },
    {
     "data": {
      "image/png": "[encoded data removed]",
      "text/plain": [
       "<Figure size 432x288 with 1 Axes>"
      ]
     },
     "metadata": {
      "needs_background": "light"
     },
     "output_type": "display_data"
    }
   ],
   "source": [
    "# countplot for binary variables except target variable\n",
    "sns.countplot(y = 'mobile', data = df)\n",
    "plt.show()\n",
    "sns.countplot(y = 'returning', data=df)\n",
    "plt.show()"
   ]
  },
  {
   "cell_type": "code",
   "execution_count": 87,
   "metadata": {
    "ExecuteTime": {
     "end_time": "2020-09-27T07:09:31.150065Z",
     "start_time": "2020-09-27T07:09:30.953559Z"
    }
   },
   "outputs": [
    {
     "data": {
      "text/plain": [
       "<AxesSubplot:xlabel='pages_viewed', ylabel='count'>"
      ]
     },
     "execution_count": 87,
     "metadata": {},
     "output_type": "execute_result"
    },
    {
     "data": {
      "image/png": "[encoded data removed]",
      "text/plain": [
       "<Figure size 432x288 with 1 Axes>"
      ]
     },
     "metadata": {
      "needs_background": "light"
     },
     "output_type": "display_data"
    }
   ],
   "source": [
    "# Distribution plot for numerical variable.\n",
    "sns.countplot(x = 'pages_viewed', data = df)"
   ]
  },
  {
   "cell_type": "markdown",
   "metadata": {},
   "source": [
    "#### Here is what we learned from dataset\n",
    " - The dataset contains 290k observations and 6 features.\n",
    " - We have 2 categorical variables, 3 binary variables and 1 numeric variable.\n",
    "     - 1 of the binary varibale is the target variable lead\n",
    "     - 2 binary variables are indicator variables\n",
    " - There is no missing data.\n",
    " - The overall conversion rate was 3.2 %.\n",
    " - Around 50% of the visitors live in the US.\n",
    " - Most of the visitors came from facebook ads.\n",
    " - Most of the customers visited page in the range of 0-5"
   ]
  },
  {
   "cell_type": "markdown",
   "metadata": {},
   "source": [
    "### Conversion Rate Analysis"
   ]
  },
  {
   "cell_type": "markdown",
   "metadata": {},
   "source": [
    "We are ready to start segmenting our conversion rate data.<br>\n",
    "First we will find the conversion rate % segment vise by writting a function conversion_percent.<br>\n",
    "Then we will write a function for creating multiple charts."
   ]
  },
  {
   "cell_type": "code",
   "execution_count": 25,
   "metadata": {
    "ExecuteTime": {
     "end_time": "2020-09-27T04:12:16.157921Z",
     "start_time": "2020-09-27T04:12:16.153931Z"
    }
   },
   "outputs": [],
   "source": [
    "def conversion_percent(data, column, target):\n",
    "    x = data.groupby(column)[target]\n",
    "    return (x.sum()/x.count())*100"
   ]
  },
  {
   "cell_type": "code",
   "execution_count": 52,
   "metadata": {
    "ExecuteTime": {
     "end_time": "2020-09-27T05:08:59.401655Z",
     "start_time": "2020-09-27T05:08:59.373728Z"
    }
   },
   "outputs": [
    {
     "data": {
      "text/plain": [
       "source\n",
       "Adwords       5.218063\n",
       "Facebook      3.768988\n",
       "Influencer    6.337614\n",
       "Taboola       0.123405\n",
       "Name: lead, dtype: float64"
      ]
     },
     "execution_count": 52,
     "metadata": {},
     "output_type": "execute_result"
    }
   ],
   "source": [
    "conversion_percent(df, 'source', 'lead')"
   ]
  },
  {
   "cell_type": "markdown",
   "metadata": {},
   "source": [
    "Here, we can see that highest conversion rate is for Influencer marketing channel."
   ]
  },
  {
   "cell_type": "code",
   "execution_count": 28,
   "metadata": {
    "ExecuteTime": {
     "end_time": "2020-09-27T04:13:01.358687Z",
     "start_time": "2020-09-27T04:13:01.320789Z"
    }
   },
   "outputs": [
    {
     "data": {
      "text/plain": [
       "country\n",
       "Canada    2.797129\n",
       "UK        3.438658\n",
       "US        3.280163\n",
       "Name: lead, dtype: float64"
      ]
     },
     "execution_count": 28,
     "metadata": {},
     "output_type": "execute_result"
    }
   ],
   "source": [
    "conversion_percent(df, 'country', 'lead')"
   ]
  },
  {
   "cell_type": "markdown",
   "metadata": {},
   "source": [
    "Here, we can see that highest conversion rate is for UK."
   ]
  },
  {
   "cell_type": "code",
   "execution_count": 29,
   "metadata": {
    "ExecuteTime": {
     "end_time": "2020-09-27T04:13:18.855866Z",
     "start_time": "2020-09-27T04:13:18.832928Z"
    }
   },
   "outputs": [
    {
     "data": {
      "text/plain": [
       "mobile\n",
       "0    7.189636\n",
       "1    1.392971\n",
       "Name: lead, dtype: float64"
      ]
     },
     "execution_count": 29,
     "metadata": {},
     "output_type": "execute_result"
    }
   ],
   "source": [
    "conversion_percent(df, 'mobile', 'lead')"
   ]
  },
  {
   "cell_type": "markdown",
   "metadata": {},
   "source": [
    "Here, we can see that conversion rate is for mobile or tablets users is higher than desktop users."
   ]
  },
  {
   "cell_type": "code",
   "execution_count": 30,
   "metadata": {
    "ExecuteTime": {
     "end_time": "2020-09-27T04:15:21.559158Z",
     "start_time": "2020-09-27T04:15:21.535221Z"
    }
   },
   "outputs": [
    {
     "data": {
      "text/plain": [
       "returning\n",
       "0    3.177200\n",
       "1    3.389118\n",
       "Name: lead, dtype: float64"
      ]
     },
     "execution_count": 30,
     "metadata": {},
     "output_type": "execute_result"
    }
   ],
   "source": [
    "conversion_percent(df, 'returning', 'lead')"
   ]
  },
  {
   "cell_type": "markdown",
   "metadata": {},
   "source": [
    "Here, we can see that the conversion rate for returning and not returning customers is approximately same."
   ]
  },
  {
   "cell_type": "code",
   "execution_count": 81,
   "metadata": {
    "ExecuteTime": {
     "end_time": "2020-09-27T07:06:52.240687Z",
     "start_time": "2020-09-27T07:06:52.235701Z"
    }
   },
   "outputs": [],
   "source": [
    "def conversion_rate_plots(data, segment_by, target):\n",
    "    #Initialize subplots for 2 columns.\n",
    "    fig, (ax1, ax2) = plt.subplots(ncols = 2, figsize = (14,6))\n",
    "    \n",
    "    sns.countplot(x = segment_by, data = data, ax = ax1)\n",
    "    \n",
    "    sns.barplot(x = segment_by, y = target, data = data, ax = ax2)\n",
    "    \n",
    "    plt.suptitle(\"Conversion Rate by {}\".format(segment_by.capitalize()))\n",
    "    plt.show"
   ]
  },
  {
   "cell_type": "code",
   "execution_count": 82,
   "metadata": {
    "ExecuteTime": {
     "end_time": "2020-09-27T07:07:16.040386Z",
     "start_time": "2020-09-27T07:07:10.241901Z"
    }
   },
   "outputs": [
    {
     "data": {
      "image/png": "[encoded data removed]",
      "text/plain": [
       "<Figure size 1008x432 with 2 Axes>"
      ]
     },
     "metadata": {
      "needs_background": "light"
     },
     "output_type": "display_data"
    }
   ],
   "source": [
    "conversion_rate_plots(df, 'source', 'lead')"
   ]
  },
  {
   "cell_type": "markdown",
   "metadata": {},
   "source": [
    " - Here we can clearly see that conversion rate for Taboola is very low and we would like to shut down this campaign. Lets just confirm it later with our model.\n",
    " - The conversion rate of leads generated by Influencer is high as around 7% of the leads generated by it gets converted.\n",
    " - Leads generated by facebook are high in number and of that around 4% gets converted which is a good sign."
   ]
  },
  {
   "cell_type": "code",
   "execution_count": 83,
   "metadata": {
    "ExecuteTime": {
     "end_time": "2020-09-27T07:07:33.875504Z",
     "start_time": "2020-09-27T07:07:27.895503Z"
    }
   },
   "outputs": [
    {
     "data": {
      "image/png": "[encoded data removed]",
      "text/plain": [
       "<Figure size 1008x432 with 2 Axes>"
      ]
     },
     "metadata": {
      "needs_background": "light"
     },
     "output_type": "display_data"
    }
   ],
   "source": [
    "conversion_rate_plots(df, 'country', 'lead')"
   ]
  },
  {
   "cell_type": "markdown",
   "metadata": {},
   "source": [
    " - Maximum leads are genrated from USA and the conversion % is 3.5 which is close to our mean.\n",
    " - The conversion rate of canada people is slightly lower, might not be significant enough. We can check it with our model."
   ]
  },
  {
   "cell_type": "code",
   "execution_count": 84,
   "metadata": {
    "ExecuteTime": {
     "end_time": "2020-09-27T07:07:54.209428Z",
     "start_time": "2020-09-27T07:07:50.360725Z"
    }
   },
   "outputs": [
    {
     "data": {
      "image/png": "[encoded data removed]",
      "text/plain": [
       "<Figure size 1008x432 with 2 Axes>"
      ]
     },
     "metadata": {
      "needs_background": "light"
     },
     "output_type": "display_data"
    }
   ],
   "source": [
    "conversion_rate_plots(df, 'returning', 'lead')"
   ]
  },
  {
   "cell_type": "markdown",
   "metadata": {
    "ExecuteTime": {
     "end_time": "2020-09-27T07:23:24.946097Z",
     "start_time": "2020-09-27T07:23:24.941113Z"
    }
   },
   "source": [
    " - Returning vs new visitors have roughly similar conversion rate"
   ]
  },
  {
   "cell_type": "code",
   "execution_count": 85,
   "metadata": {
    "ExecuteTime": {
     "end_time": "2020-09-27T07:08:00.728757Z",
     "start_time": "2020-09-27T07:07:55.911645Z"
    }
   },
   "outputs": [
    {
     "data": {
      "image/png": "[encoded data removed]",
      "text/plain": [
       "<Figure size 1008x432 with 2 Axes>"
      ]
     },
     "metadata": {
      "needs_background": "light"
     },
     "output_type": "display_data"
    }
   ],
   "source": [
    "conversion_rate_plots(df, 'mobile', 'lead')"
   ]
  },
  {
   "cell_type": "markdown",
   "metadata": {},
   "source": [
    " - People using desktop have a conversion rate of 7% which is higher than that of people using mobile.\n",
    " - Mobile visitors have much lower conversion rate."
   ]
  },
  {
   "cell_type": "code",
   "execution_count": 86,
   "metadata": {
    "ExecuteTime": {
     "end_time": "2020-09-27T07:08:13.250350Z",
     "start_time": "2020-09-27T07:08:07.833841Z"
    }
   },
   "outputs": [
    {
     "data": {
      "image/png": "[encoded data removed]",
      "text/plain": [
       "<Figure size 1008x432 with 2 Axes>"
      ]
     },
     "metadata": {
      "needs_background": "light"
     },
     "output_type": "display_data"
    }
   ],
   "source": [
    "conversion_rate_plots(df, 'pages_viewed', 'lead')"
   ]
  },
  {
   "cell_type": "markdown",
   "metadata": {},
   "source": [
    " - There is 80% chance of lead conversion if a person views more than 17 pages.\n",
    " - Visitors who view more pages have higher conversion rate we can see from our plot."
   ]
  },
  {
   "cell_type": "markdown",
   "metadata": {},
   "source": [
    "### Model Building"
   ]
  },
  {
   "cell_type": "code",
   "execution_count": 89,
   "metadata": {
    "ExecuteTime": {
     "end_time": "2020-09-27T07:27:47.007807Z",
     "start_time": "2020-09-27T07:27:47.003818Z"
    }
   },
   "outputs": [],
   "source": [
    "from sklearn.model_selection import train_test_split\n",
    "from sklearn.linear_model import LogisticRegression\n",
    "from sklearn.metrics import roc_auc_score"
   ]
  },
  {
   "cell_type": "code",
   "execution_count": 91,
   "metadata": {
    "ExecuteTime": {
     "end_time": "2020-09-27T07:28:26.867287Z",
     "start_time": "2020-09-27T07:28:26.776532Z"
    }
   },
   "outputs": [],
   "source": [
    "df = pd.get_dummies(df)"
   ]
  },
  {
   "cell_type": "code",
   "execution_count": 93,
   "metadata": {
    "ExecuteTime": {
     "end_time": "2020-09-27T07:28:46.177113Z",
     "start_time": "2020-09-27T07:28:46.163153Z"
    }
   },
   "outputs": [
    {
     "data": {
      "text/html": [
       "<div>\n",
       "<style scoped>\n",
       "    .dataframe tbody tr th:only-of-type {\n",
       "        vertical-align: middle;\n",
       "    }\n",
       "\n",
       "    .dataframe tbody tr th {\n",
       "        vertical-align: top;\n",
       "    }\n",
       "\n",
       "    .dataframe thead th {\n",
       "        text-align: right;\n",
       "    }\n",
       "</style>\n",
       "<table border=\"1\" class=\"dataframe\">\n",
       "  <thead>\n",
       "    <tr style=\"text-align: right;\">\n",
       "      <th></th>\n",
       "      <th>returning</th>\n",
       "      <th>mobile</th>\n",
       "      <th>pages_viewed</th>\n",
       "      <th>lead</th>\n",
       "      <th>source_Adwords</th>\n",
       "      <th>source_Facebook</th>\n",
       "      <th>source_Influencer</th>\n",
       "      <th>source_Taboola</th>\n",
       "      <th>country_Canada</th>\n",
       "      <th>country_UK</th>\n",
       "      <th>country_US</th>\n",
       "    </tr>\n",
       "  </thead>\n",
       "  <tbody>\n",
       "    <tr>\n",
       "      <th>0</th>\n",
       "      <td>1</td>\n",
       "      <td>1</td>\n",
       "      <td>2</td>\n",
       "      <td>0</td>\n",
       "      <td>0</td>\n",
       "      <td>0</td>\n",
       "      <td>0</td>\n",
       "      <td>1</td>\n",
       "      <td>0</td>\n",
       "      <td>0</td>\n",
       "      <td>1</td>\n",
       "    </tr>\n",
       "    <tr>\n",
       "      <th>1</th>\n",
       "      <td>0</td>\n",
       "      <td>1</td>\n",
       "      <td>6</td>\n",
       "      <td>0</td>\n",
       "      <td>0</td>\n",
       "      <td>0</td>\n",
       "      <td>0</td>\n",
       "      <td>1</td>\n",
       "      <td>0</td>\n",
       "      <td>0</td>\n",
       "      <td>1</td>\n",
       "    </tr>\n",
       "    <tr>\n",
       "      <th>2</th>\n",
       "      <td>0</td>\n",
       "      <td>0</td>\n",
       "      <td>2</td>\n",
       "      <td>0</td>\n",
       "      <td>0</td>\n",
       "      <td>1</td>\n",
       "      <td>0</td>\n",
       "      <td>0</td>\n",
       "      <td>0</td>\n",
       "      <td>0</td>\n",
       "      <td>1</td>\n",
       "    </tr>\n",
       "    <tr>\n",
       "      <th>3</th>\n",
       "      <td>0</td>\n",
       "      <td>0</td>\n",
       "      <td>5</td>\n",
       "      <td>0</td>\n",
       "      <td>0</td>\n",
       "      <td>0</td>\n",
       "      <td>0</td>\n",
       "      <td>1</td>\n",
       "      <td>0</td>\n",
       "      <td>0</td>\n",
       "      <td>1</td>\n",
       "    </tr>\n",
       "    <tr>\n",
       "      <th>4</th>\n",
       "      <td>0</td>\n",
       "      <td>0</td>\n",
       "      <td>5</td>\n",
       "      <td>0</td>\n",
       "      <td>0</td>\n",
       "      <td>0</td>\n",
       "      <td>0</td>\n",
       "      <td>1</td>\n",
       "      <td>1</td>\n",
       "      <td>0</td>\n",
       "      <td>0</td>\n",
       "    </tr>\n",
       "  </tbody>\n",
       "</table>\n",
       "</div>"
      ],
      "text/plain": [
       "   returning  mobile  pages_viewed  lead  source_Adwords  source_Facebook  \\\n",
       "0          1       1             2     0               0                0   \n",
       "1          0       1             6     0               0                0   \n",
       "2          0       0             2     0               0                1   \n",
       "3          0       0             5     0               0                0   \n",
       "4          0       0             5     0               0                0   \n",
       "\n",
       "   source_Influencer  source_Taboola  country_Canada  country_UK  country_US  \n",
       "0                  0               1               0           0           1  \n",
       "1                  0               1               0           0           1  \n",
       "2                  0               0               0           0           1  \n",
       "3                  0               1               0           0           1  \n",
       "4                  0               1               1           0           0  "
      ]
     },
     "execution_count": 93,
     "metadata": {},
     "output_type": "execute_result"
    }
   ],
   "source": [
    "df.head()"
   ]
  },
  {
   "cell_type": "code",
   "execution_count": 95,
   "metadata": {
    "ExecuteTime": {
     "end_time": "2020-09-27T07:29:07.722378Z",
     "start_time": "2020-09-27T07:29:07.706421Z"
    }
   },
   "outputs": [],
   "source": [
    "X = df.drop('lead', axis = 1)\n",
    "y = df[['lead']]"
   ]
  },
  {
   "cell_type": "code",
   "execution_count": 100,
   "metadata": {
    "ExecuteTime": {
     "end_time": "2020-09-27T07:30:56.233906Z",
     "start_time": "2020-09-27T07:30:56.164094Z"
    }
   },
   "outputs": [],
   "source": [
    "#split training, test dataset.\n",
    "X_train, X_test, y_train, y_test = train_test_split(X, y, test_size=0.2)"
   ]
  },
  {
   "cell_type": "code",
   "execution_count": 101,
   "metadata": {
    "ExecuteTime": {
     "end_time": "2020-09-27T07:31:06.838876Z",
     "start_time": "2020-09-27T07:31:06.834889Z"
    }
   },
   "outputs": [],
   "source": [
    "lr = LogisticRegression()"
   ]
  },
  {
   "cell_type": "code",
   "execution_count": 102,
   "metadata": {
    "ExecuteTime": {
     "end_time": "2020-09-27T07:31:20.747089Z",
     "start_time": "2020-09-27T07:31:18.020384Z"
    }
   },
   "outputs": [
    {
     "name": "stderr",
     "output_type": "stream",
     "text": [
      "C:\\Users\\yashc\\AppData\\Local\\Continuum\\anaconda3\\lib\\site-packages\\sklearn\\utils\\validation.py:72: DataConversionWarning: A column-vector y was passed when a 1d array was expected. Please change the shape of y to (n_samples, ), for example using ravel().\n",
      "  return f(**kwargs)\n"
     ]
    },
    {
     "data": {
      "text/plain": [
       "LogisticRegression()"
      ]
     },
     "execution_count": 102,
     "metadata": {},
     "output_type": "execute_result"
    }
   ],
   "source": [
    "lr.fit(X_train, y_train)"
   ]
  },
  {
   "cell_type": "code",
   "execution_count": 105,
   "metadata": {
    "ExecuteTime": {
     "end_time": "2020-09-27T07:32:20.817991Z",
     "start_time": "2020-09-27T07:32:20.743192Z"
    }
   },
   "outputs": [
    {
     "data": {
      "text/plain": [
       "0.9825078688630019"
      ]
     },
     "execution_count": 105,
     "metadata": {},
     "output_type": "execute_result"
    }
   ],
   "source": [
    "pred = lr.predict_proba(X_test)\n",
    "pred = [p[1] for p in pred]\n",
    "roc_auc_score(y_test, pred)"
   ]
  },
  {
   "cell_type": "markdown",
   "metadata": {},
   "source": [
    "As we can see that our roc is high on test set that means our model is predictive and there is a clear class seperation"
   ]
  },
  {
   "cell_type": "code",
   "execution_count": null,
   "metadata": {},
   "outputs": [],
   "source": []
  },
  {
   "cell_type": "code",
   "execution_count": null,
   "metadata": {},
   "outputs": [],
   "source": []
  },
  {
   "cell_type": "code",
   "execution_count": null,
   "metadata": {},
   "outputs": [],
   "source": []
  },
  {
   "cell_type": "code",
   "execution_count": null,
   "metadata": {},
   "outputs": [],
   "source": []
  },
  {
   "cell_type": "code",
   "execution_count": null,
   "metadata": {},
   "outputs": [],
   "source": []
  },
  {
   "cell_type": "code",
   "execution_count": null,
   "metadata": {},
   "outputs": [],
   "source": []
  },
  {
   "cell_type": "code",
   "execution_count": null,
   "metadata": {},
   "outputs": [],
   "source": []
  },
  {
   "cell_type": "code",
   "execution_count": null,
   "metadata": {},
   "outputs": [],
   "source": []
  },
  {
   "cell_type": "code",
   "execution_count": null,
   "metadata": {},
   "outputs": [],
   "source": []
  },
  {
   "cell_type": "code",
   "execution_count": null,
   "metadata": {},
   "outputs": [],
   "source": []
  },
  {
   "cell_type": "code",
   "execution_count": null,
   "metadata": {},
   "outputs": [],
   "source": []
  },
  {
   "cell_type": "code",
   "execution_count": null,
   "metadata": {},
   "outputs": [],
   "source": []
  }
 ],
 "metadata": {
  "kernelspec": {
   "display_name": "Python 3",
   "language": "python",
   "name": "python3"
  },
  "language_info": {
   "codemirror_mode": {
    "name": "ipython",
    "version": 3
   },
   "file_extension": ".py",
   "mimetype": "text/x-python",
   "name": "python",
   "nbconvert_exporter": "python",
   "pygments_lexer": "ipython3",
   "version": "3.7.3"
  }
 },
 "nbformat": 4,
 "nbformat_minor": 4
}
